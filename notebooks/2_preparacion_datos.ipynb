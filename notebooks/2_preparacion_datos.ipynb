{
 "cells": [
  {
   "cell_type": "markdown",
   "metadata": {},
   "source": [
    "# 2. Preparación de Datos - Mundial de Fútbol\n",
    "\n",
    "Este notebook corresponde a la fase de preparación de datos del proceso CRISP-DM. Aquí realizaremos la limpieza, transformación y creación de características para preparar los datos para el modelado."
   ]
  },
  {
   "cell_type": "code",
   "execution_count": 1,
   "metadata": {},
   "outputs": [],
   "source": [
    "# Importar bibliotecas necesarias\n",
    "import pandas as pd\n",
    "import numpy as np\n",
    "import matplotlib.pyplot as plt\n",
    "import seaborn as sns\n",
    "import json\n",
    "from pathlib import Path\n",
    "import warnings\n",
    "\n",
    "# Ignorar warnings\n",
    "warnings.filterwarnings('ignore')\n",
    "\n",
    "# Configuración de visualización\n",
    "%matplotlib inline\n",
    "plt.style.use('default')  # Usar estilo predeterminado\n",
    "sns.set_theme()\n",
    "plt.rcParams['figure.figsize'] = (10, 6)\n",
    "\n",
    "# Configuración de pandas\n",
    "pd.set_option('display.max_columns', 100)"
   ]
  },
  {
   "cell_type": "markdown",
   "metadata": {},
   "source": [
    "## 2.1 Carga de Datos\n",
    "\n",
    "Primero cargaremos los datos del archivo JSON y extraeremos la información como hicimos en el notebook anterior."
   ]
  },
  {
   "cell_type": "code",
   "execution_count": 2,
   "metadata": {},
   "outputs": [
    {
     "name": "stdout",
     "output_type": "stream",
     "text": [
      "Datos cargados. Tipo: <class 'list'>\n",
      "Número de partidos: 64\n"
     ]
    }
   ],
   "source": [
    "# Ruta al archivo JSON\n",
    "json_path = '../data/raw/matches_World_Cup.json'\n",
    "\n",
    "# Cargar el archivo JSON\n",
    "with open(json_path, 'r', encoding='utf-8') as f:\n",
    "    data = json.load(f)\n",
    "\n",
    "print(f\"Datos cargados. Tipo: {type(data)}\")\n",
    "if isinstance(data, list):\n",
    "    print(f\"Número de partidos: {len(data)}\")"
   ]
  },
  {
   "cell_type": "code",
   "execution_count": 3,
   "metadata": {},
   "outputs": [
    {
     "name": "stdout",
     "output_type": "stream",
     "text": [
      "DataFrame de partidos creado con 64 filas y 13 columnas\n"
     ]
    }
   ],
   "source": [
    "# Función para extraer datos de partidos\n",
    "def extract_matches_dataframe(data):\n",
    "    matches = []\n",
    "    \n",
    "    if isinstance(data, list):\n",
    "        # Si es una lista de partidos\n",
    "        for match in data:\n",
    "            if isinstance(match, dict):\n",
    "                # Extraer información básica del partido\n",
    "                match_info = {}\n",
    "                \n",
    "                # Incluir campos simples (no listas ni diccionarios)\n",
    "                for key, value in match.items():\n",
    "                    if not isinstance(value, (dict, list)):\n",
    "                        match_info[key] = value\n",
    "                \n",
    "                matches.append(match_info)\n",
    "    \n",
    "    # Crear DataFrame\n",
    "    if matches:\n",
    "        matches_df = pd.DataFrame(matches)\n",
    "        print(f\"DataFrame de partidos creado con {len(matches_df)} filas y {len(matches_df.columns)} columnas\")\n",
    "        return matches_df\n",
    "    else:\n",
    "        print(\"No se pudo extraer información de partidos\")\n",
    "        return pd.DataFrame()\n",
    "\n",
    "# Extraer DataFrame de partidos\n",
    "matches_df = extract_matches_dataframe(data)"
   ]
  },
  {
   "cell_type": "code",
   "execution_count": 4,
   "metadata": {},
   "outputs": [
    {
     "name": "stdout",
     "output_type": "stream",
     "text": [
      "DataFrame de jugadores creado con 2885 filas y 12 columnas\n"
     ]
    }
   ],
   "source": [
    "# Función para extraer datos de jugadores\n",
    "def extract_players_dataframe(data):\n",
    "    players = []\n",
    "    \n",
    "    if isinstance(data, list):\n",
    "        # Iterar por cada partido\n",
    "        for match in data:\n",
    "            match_id = match.get('wyId', None)  # Usar wyId como identificador del partido\n",
    "            match_date = match.get('date', None)  # Fecha del partido\n",
    "            \n",
    "            # Los jugadores están dentro de 'formation' en 'teamsData'\n",
    "            if 'teamsData' in match and isinstance(match['teamsData'], dict):\n",
    "                for team_id, team_data in match['teamsData'].items():\n",
    "                    team_side = team_data.get('side', None)  # home/away\n",
    "                    team_score = team_data.get('score', None)\n",
    "                    \n",
    "                    if 'formation' in team_data and isinstance(team_data['formation'], dict):\n",
    "                        formation = team_data['formation']\n",
    "                        \n",
    "                        # Procesar jugadores titulares\n",
    "                        if 'lineup' in formation and isinstance(formation['lineup'], list):\n",
    "                            for player in formation['lineup']:\n",
    "                                if isinstance(player, dict):\n",
    "                                    player_info = player.copy()\n",
    "                                    player_info['match_id'] = match_id\n",
    "                                    player_info['match_date'] = match_date\n",
    "                                    player_info['team_id'] = team_id\n",
    "                                    player_info['team_side'] = team_side\n",
    "                                    player_info['is_lineup'] = True\n",
    "                                    player_info['is_bench'] = False\n",
    "                                    players.append(player_info)\n",
    "                        \n",
    "                        # Procesar jugadores suplentes\n",
    "                        if 'bench' in formation and isinstance(formation['bench'], list):\n",
    "                            for player in formation['bench']:\n",
    "                                if isinstance(player, dict):\n",
    "                                    player_info = player.copy()\n",
    "                                    player_info['match_id'] = match_id\n",
    "                                    player_info['match_date'] = match_date\n",
    "                                    player_info['team_id'] = team_id\n",
    "                                    player_info['team_side'] = team_side\n",
    "                                    player_info['is_lineup'] = False\n",
    "                                    player_info['is_bench'] = True\n",
    "                                    players.append(player_info)\n",
    "    \n",
    "    # Crear DataFrame\n",
    "    if players:\n",
    "        players_df = pd.DataFrame(players)\n",
    "        print(f\"DataFrame de jugadores creado con {len(players_df)} filas y {len(players_df.columns)} columnas\")\n",
    "        return players_df\n",
    "    else:\n",
    "        print(\"No se pudo extraer información de jugadores\")\n",
    "        return pd.DataFrame()\n",
    "\n",
    "# Extraer DataFrame de jugadores\n",
    "players_df = extract_players_dataframe(data)"
   ]
  },
  {
   "cell_type": "markdown",
   "metadata": {},
   "source": [
    "## 2.2 Limpieza de Datos\n",
    "\n",
    "Ahora realizaremos la limpieza de datos para garantizar la calidad de los mismos antes de crear características."
   ]
  },
  {
   "cell_type": "markdown",
   "metadata": {},
   "source": [
    "### 2.2.1 Convertir tipos de datos"
   ]
  },
  {
   "cell_type": "code",
   "execution_count": 5,
   "metadata": {},
   "outputs": [
    {
     "name": "stdout",
     "output_type": "stream",
     "text": [
      "Tipos de datos actuales:\n",
      "goals: object\n",
      "assists: object\n",
      "yellowCards: object\n",
      "redCards: object\n",
      "ownGoals: object\n",
      "\n",
      "Tipos de datos después de la conversión:\n",
      "goals: float64\n",
      "assists: int64\n",
      "yellowCards: int64\n",
      "redCards: int64\n",
      "ownGoals: int64\n"
     ]
    }
   ],
   "source": [
    "# Inspeccionar los tipos de datos de las columnas numéricas de jugadores\n",
    "players_numeric_cols = ['goals', 'assists', 'yellowCards', 'redCards', 'ownGoals']\n",
    "\n",
    "# Mostrar tipo de datos actual\n",
    "print(\"Tipos de datos actuales:\")\n",
    "for col in players_numeric_cols:\n",
    "    if col in players_df.columns:\n",
    "        print(f\"{col}: {players_df[col].dtype}\")\n",
    "\n",
    "# Convertir a tipos numéricos\n",
    "for col in players_numeric_cols:\n",
    "    if col in players_df.columns:\n",
    "        players_df[col] = pd.to_numeric(players_df[col], errors='coerce')\n",
    "\n",
    "# Verificar conversión\n",
    "print(\"\\nTipos de datos después de la conversión:\")\n",
    "for col in players_numeric_cols:\n",
    "    if col in players_df.columns:\n",
    "        print(f\"{col}: {players_df[col].dtype}\")"
   ]
  },
  {
   "cell_type": "markdown",
   "metadata": {},
   "source": [
    "### 2.2.2 Manejo de valores faltantes"
   ]
  },
  {
   "cell_type": "code",
   "execution_count": 6,
   "metadata": {},
   "outputs": [
    {
     "name": "stdout",
     "output_type": "stream",
     "text": [
      "Columnas con valores faltantes:\n",
      "goals    1944\n",
      "dtype: int64\n"
     ]
    }
   ],
   "source": [
    "# Verificar valores faltantes en DataFrame de jugadores\n",
    "missing_players = players_df.isnull().sum()\n",
    "missing_players = missing_players[missing_players > 0]\n",
    "\n",
    "if not missing_players.empty:\n",
    "    print(\"Columnas con valores faltantes:\")\n",
    "    print(missing_players)\n",
    "else:\n",
    "    print(\"No hay valores faltantes en el DataFrame de jugadores\")"
   ]
  },
  {
   "cell_type": "code",
   "execution_count": 7,
   "metadata": {},
   "outputs": [
    {
     "name": "stdout",
     "output_type": "stream",
     "text": [
      "Rellenando valores faltantes en goals con 0\n",
      "\n",
      "Valores faltantes restantes en columnas numéricas:\n",
      "{'goals': np.int64(0), 'assists': np.int64(0), 'yellowCards': np.int64(0), 'redCards': np.int64(0), 'ownGoals': np.int64(0)}\n"
     ]
    }
   ],
   "source": [
    "# Rellenar valores faltantes en columnas numéricas con 0\n",
    "for col in players_numeric_cols:\n",
    "    if col in players_df.columns and players_df[col].isnull().sum() > 0:\n",
    "        print(f\"Rellenando valores faltantes en {col} con 0\")\n",
    "        players_df[col].fillna(0, inplace=True)\n",
    "\n",
    "# Verificar que no quedan valores faltantes en columnas numéricas\n",
    "still_missing = {col: players_df[col].isnull().sum() for col in players_numeric_cols if col in players_df.columns}\n",
    "print(\"\\nValores faltantes restantes en columnas numéricas:\")\n",
    "print(still_missing)"
   ]
  },
  {
   "cell_type": "markdown",
   "metadata": {},
   "source": [
    "## 2.3 Ingeniería de Características\n",
    "\n",
    "Crearemos nuevas características que serán útiles para nuestros modelos."
   ]
  },
  {
   "cell_type": "markdown",
   "metadata": {},
   "source": [
    "### 2.3.1 Identificación del rol/posición del jugador\n",
    "\n",
    "Vamos a intentar determinar la posición o rol de cada jugador basándonos en la información disponible."
   ]
  },
  {
   "cell_type": "code",
   "execution_count": 8,
   "metadata": {},
   "outputs": [
    {
     "name": "stdout",
     "output_type": "stream",
     "text": [
      "Columnas relacionadas con posición: []\n",
      "No se encontró información explícita de posición. Intentaremos inferirla usando los datos disponibles.\n",
      "Top 10 jugadores con más goles:\n"
     ]
    },
    {
     "data": {
      "text/html": [
       "<div>\n",
       "<style scoped>\n",
       "    .dataframe tbody tr th:only-of-type {\n",
       "        vertical-align: middle;\n",
       "    }\n",
       "\n",
       "    .dataframe tbody tr th {\n",
       "        vertical-align: top;\n",
       "    }\n",
       "\n",
       "    .dataframe thead th {\n",
       "        text-align: right;\n",
       "    }\n",
       "</style>\n",
       "<table border=\"1\" class=\"dataframe\">\n",
       "  <thead>\n",
       "    <tr style=\"text-align: right;\">\n",
       "      <th></th>\n",
       "      <th>playerId</th>\n",
       "      <th>goals</th>\n",
       "    </tr>\n",
       "  </thead>\n",
       "  <tbody>\n",
       "    <tr>\n",
       "      <th>110</th>\n",
       "      <td>8717</td>\n",
       "      <td>6.0</td>\n",
       "    </tr>\n",
       "    <tr>\n",
       "      <th>61</th>\n",
       "      <td>4513</td>\n",
       "      <td>4.0</td>\n",
       "    </tr>\n",
       "    <tr>\n",
       "      <th>704</th>\n",
       "      <td>353833</td>\n",
       "      <td>4.0</td>\n",
       "    </tr>\n",
       "    <tr>\n",
       "      <th>72</th>\n",
       "      <td>7905</td>\n",
       "      <td>4.0</td>\n",
       "    </tr>\n",
       "    <tr>\n",
       "      <th>25</th>\n",
       "      <td>3322</td>\n",
       "      <td>4.0</td>\n",
       "    </tr>\n",
       "    <tr>\n",
       "      <th>50</th>\n",
       "      <td>3682</td>\n",
       "      <td>4.0</td>\n",
       "    </tr>\n",
       "    <tr>\n",
       "      <th>440</th>\n",
       "      <td>101669</td>\n",
       "      <td>3.0</td>\n",
       "    </tr>\n",
       "    <tr>\n",
       "      <th>211</th>\n",
       "      <td>25707</td>\n",
       "      <td>3.0</td>\n",
       "    </tr>\n",
       "    <tr>\n",
       "      <th>57</th>\n",
       "      <td>4338</td>\n",
       "      <td>3.0</td>\n",
       "    </tr>\n",
       "    <tr>\n",
       "      <th>193</th>\n",
       "      <td>21174</td>\n",
       "      <td>3.0</td>\n",
       "    </tr>\n",
       "  </tbody>\n",
       "</table>\n",
       "</div>"
      ],
      "text/plain": [
       "     playerId  goals\n",
       "110      8717    6.0\n",
       "61       4513    4.0\n",
       "704    353833    4.0\n",
       "72       7905    4.0\n",
       "25       3322    4.0\n",
       "50       3682    4.0\n",
       "440    101669    3.0\n",
       "211     25707    3.0\n",
       "57       4338    3.0\n",
       "193     21174    3.0"
      ]
     },
     "metadata": {},
     "output_type": "display_data"
    }
   ],
   "source": [
    "# Verificar si tenemos información de posición o roles\n",
    "position_cols = [col for col in players_df.columns if 'position' in col.lower() or 'role' in col.lower()]\n",
    "print(f\"Columnas relacionadas con posición: {position_cols}\")\n",
    "\n",
    "# Si no tenemos información de posición, intentaremos inferirla\n",
    "if not position_cols:\n",
    "    print(\"No se encontró información explícita de posición. Intentaremos inferirla usando los datos disponibles.\")\n",
    "    \n",
    "    # Obtener información adicional de jugadores si está disponible\n",
    "    # Aquí podríamos intentar extraer más información del JSON original o usar estadísticas\n",
    "    # para inferir las posiciones (porteros, defensas, mediocampistas, delanteros)\n",
    "    \n",
    "    # Ejemplo simplificado: si un jugador tiene más goles, probablemente sea delantero\n",
    "    # Este enfoque es muy básico y debería mejorarse con datos reales\n",
    "    if 'goals' in players_df.columns:\n",
    "        # Agrupar por jugador y sumar goles\n",
    "        player_goals = players_df.groupby('playerId')['goals'].sum().reset_index()\n",
    "        # Ordenar por goles\n",
    "        player_goals = player_goals.sort_values('goals', ascending=False)\n",
    "        print(\"Top 10 jugadores con más goles:\")\n",
    "        display(player_goals.head(10))"
   ]
  },
  {
   "cell_type": "markdown",
   "metadata": {},
   "source": [
    "### 2.3.2 Creación de métricas de rendimiento"
   ]
  },
  {
   "cell_type": "code",
   "execution_count": 9,
   "metadata": {},
   "outputs": [
    {
     "name": "stdout",
     "output_type": "stream",
     "text": [
      "Métrica creada: offensive_contribution (goles + asistencias)\n",
      "\n",
      "Distribución de offensive_contribution:\n",
      "offensive_contribution\n",
      "0.0    2671\n",
      "1.0     193\n",
      "2.0      18\n",
      "3.0       3\n",
      "Name: count, dtype: int64\n"
     ]
    },
    {
     "data": {
      "image/png": "[encoded data removed]",
      "text/plain": [
       "<Figure size 1000x600 with 1 Axes>"
      ]
     },
     "metadata": {},
     "output_type": "display_data"
    }
   ],
   "source": [
    "# Crear métricas básicas de rendimiento por partido\n",
    "if all(col in players_df.columns for col in ['goals', 'assists']):\n",
    "    # Contribución ofensiva (goles + asistencias)\n",
    "    players_df['offensive_contribution'] = players_df['goals'] + players_df['assists']\n",
    "    print(\"Métrica creada: offensive_contribution (goles + asistencias)\")\n",
    "    \n",
    "    # Calcular distribución\n",
    "    print(\"\\nDistribución de offensive_contribution:\")\n",
    "    print(players_df['offensive_contribution'].value_counts().sort_index())\n",
    "    \n",
    "    # Visualizar\n",
    "    plt.figure(figsize=(10, 6))\n",
    "    sns.histplot(players_df['offensive_contribution'], kde=True, bins=range(0, int(players_df['offensive_contribution'].max())+2))\n",
    "    plt.title('Distribución de Contribución Ofensiva por Jugador')\n",
    "    plt.xlabel('Contribución Ofensiva (Goles + Asistencias)')\n",
    "    plt.ylabel('Frecuencia')\n",
    "    plt.show()"
   ]
  },
  {
   "cell_type": "code",
   "execution_count": 10,
   "metadata": {},
   "outputs": [
    {
     "name": "stdout",
     "output_type": "stream",
     "text": [
      "Métrica creada: discipline_index (tarjetas amarillas + 3*tarjetas rojas)\n",
      "\n",
      "Distribución de discipline_index:\n",
      "discipline_index\n",
      "0      2662\n",
      "1         1\n",
      "9         3\n",
      "10        3\n",
      "11        2\n",
      "       ... \n",
      "115       1\n",
      "118       1\n",
      "136       1\n",
      "282       1\n",
      "317       1\n",
      "Name: count, Length: 89, dtype: int64\n"
     ]
    }
   ],
   "source": [
    "# Crear métricas defensivas y disciplinarias\n",
    "if 'yellowCards' in players_df.columns and 'redCards' in players_df.columns:\n",
    "    # Índice de disciplina (más alto = peor disciplina)\n",
    "    players_df['discipline_index'] = players_df['yellowCards'] + 3 * players_df['redCards']\n",
    "    print(\"Métrica creada: discipline_index (tarjetas amarillas + 3*tarjetas rojas)\")\n",
    "    \n",
    "    # Calcular distribución\n",
    "    print(\"\\nDistribución de discipline_index:\")\n",
    "    print(players_df['discipline_index'].value_counts().sort_index())"
   ]
  },
  {
   "cell_type": "markdown",
   "metadata": {},
   "source": [
    "### 2.3.3 Cálculo de métricas para modelos"
   ]
  },
  {
   "cell_type": "code",
   "execution_count": 11,
   "metadata": {},
   "outputs": [
    {
     "name": "stdout",
     "output_type": "stream",
     "text": [
      "Estadísticas de jugadores:\n"
     ]
    },
    {
     "data": {
      "text/html": [
       "<div>\n",
       "<style scoped>\n",
       "    .dataframe tbody tr th:only-of-type {\n",
       "        vertical-align: middle;\n",
       "    }\n",
       "\n",
       "    .dataframe tbody tr th {\n",
       "        vertical-align: top;\n",
       "    }\n",
       "\n",
       "    .dataframe thead th {\n",
       "        text-align: right;\n",
       "    }\n",
       "</style>\n",
       "<table border=\"1\" class=\"dataframe\">\n",
       "  <thead>\n",
       "    <tr style=\"text-align: right;\">\n",
       "      <th></th>\n",
       "      <th>playerId</th>\n",
       "      <th>goals</th>\n",
       "      <th>assists</th>\n",
       "      <th>yellowCards</th>\n",
       "      <th>redCards</th>\n",
       "      <th>matches_played</th>\n",
       "      <th>goals_per_match</th>\n",
       "      <th>assists_per_match</th>\n",
       "      <th>performance_score</th>\n",
       "    </tr>\n",
       "  </thead>\n",
       "  <tbody>\n",
       "    <tr>\n",
       "      <th>215</th>\n",
       "      <td>25776</td>\n",
       "      <td>2.0</td>\n",
       "      <td>2</td>\n",
       "      <td>0</td>\n",
       "      <td>0</td>\n",
       "      <td>3</td>\n",
       "      <td>0.666667</td>\n",
       "      <td>0.666667</td>\n",
       "      <td>2.000000</td>\n",
       "    </tr>\n",
       "    <tr>\n",
       "      <th>110</th>\n",
       "      <td>8717</td>\n",
       "      <td>6.0</td>\n",
       "      <td>0</td>\n",
       "      <td>0</td>\n",
       "      <td>0</td>\n",
       "      <td>7</td>\n",
       "      <td>0.857143</td>\n",
       "      <td>0.000000</td>\n",
       "      <td>1.714286</td>\n",
       "    </tr>\n",
       "    <tr>\n",
       "      <th>61</th>\n",
       "      <td>4513</td>\n",
       "      <td>4.0</td>\n",
       "      <td>0</td>\n",
       "      <td>0</td>\n",
       "      <td>0</td>\n",
       "      <td>5</td>\n",
       "      <td>0.800000</td>\n",
       "      <td>0.000000</td>\n",
       "      <td>1.600000</td>\n",
       "    </tr>\n",
       "    <tr>\n",
       "      <th>57</th>\n",
       "      <td>4338</td>\n",
       "      <td>3.0</td>\n",
       "      <td>0</td>\n",
       "      <td>0</td>\n",
       "      <td>0</td>\n",
       "      <td>4</td>\n",
       "      <td>0.750000</td>\n",
       "      <td>0.000000</td>\n",
       "      <td>1.500000</td>\n",
       "    </tr>\n",
       "    <tr>\n",
       "      <th>193</th>\n",
       "      <td>21174</td>\n",
       "      <td>3.0</td>\n",
       "      <td>0</td>\n",
       "      <td>0</td>\n",
       "      <td>0</td>\n",
       "      <td>4</td>\n",
       "      <td>0.750000</td>\n",
       "      <td>0.000000</td>\n",
       "      <td>1.500000</td>\n",
       "    </tr>\n",
       "    <tr>\n",
       "      <th>651</th>\n",
       "      <td>256634</td>\n",
       "      <td>3.0</td>\n",
       "      <td>0</td>\n",
       "      <td>0</td>\n",
       "      <td>0</td>\n",
       "      <td>4</td>\n",
       "      <td>0.750000</td>\n",
       "      <td>0.000000</td>\n",
       "      <td>1.500000</td>\n",
       "    </tr>\n",
       "    <tr>\n",
       "      <th>436</th>\n",
       "      <td>101606</td>\n",
       "      <td>2.0</td>\n",
       "      <td>0</td>\n",
       "      <td>0</td>\n",
       "      <td>0</td>\n",
       "      <td>3</td>\n",
       "      <td>0.666667</td>\n",
       "      <td>0.000000</td>\n",
       "      <td>1.333333</td>\n",
       "    </tr>\n",
       "    <tr>\n",
       "      <th>519</th>\n",
       "      <td>120353</td>\n",
       "      <td>2.0</td>\n",
       "      <td>0</td>\n",
       "      <td>0</td>\n",
       "      <td>0</td>\n",
       "      <td>3</td>\n",
       "      <td>0.666667</td>\n",
       "      <td>0.000000</td>\n",
       "      <td>1.333333</td>\n",
       "    </tr>\n",
       "    <tr>\n",
       "      <th>72</th>\n",
       "      <td>7905</td>\n",
       "      <td>4.0</td>\n",
       "      <td>1</td>\n",
       "      <td>0</td>\n",
       "      <td>0</td>\n",
       "      <td>7</td>\n",
       "      <td>0.571429</td>\n",
       "      <td>0.142857</td>\n",
       "      <td>1.285714</td>\n",
       "    </tr>\n",
       "    <tr>\n",
       "      <th>440</th>\n",
       "      <td>101669</td>\n",
       "      <td>3.0</td>\n",
       "      <td>0</td>\n",
       "      <td>0</td>\n",
       "      <td>0</td>\n",
       "      <td>5</td>\n",
       "      <td>0.600000</td>\n",
       "      <td>0.000000</td>\n",
       "      <td>1.200000</td>\n",
       "    </tr>\n",
       "  </tbody>\n",
       "</table>\n",
       "</div>"
      ],
      "text/plain": [
       "     playerId  goals  assists  yellowCards  redCards  matches_played  \\\n",
       "215     25776    2.0        2            0         0               3   \n",
       "110      8717    6.0        0            0         0               7   \n",
       "61       4513    4.0        0            0         0               5   \n",
       "57       4338    3.0        0            0         0               4   \n",
       "193     21174    3.0        0            0         0               4   \n",
       "651    256634    3.0        0            0         0               4   \n",
       "436    101606    2.0        0            0         0               3   \n",
       "519    120353    2.0        0            0         0               3   \n",
       "72       7905    4.0        1            0         0               7   \n",
       "440    101669    3.0        0            0         0               5   \n",
       "\n",
       "     goals_per_match  assists_per_match  performance_score  \n",
       "215         0.666667           0.666667           2.000000  \n",
       "110         0.857143           0.000000           1.714286  \n",
       "61          0.800000           0.000000           1.600000  \n",
       "57          0.750000           0.000000           1.500000  \n",
       "193         0.750000           0.000000           1.500000  \n",
       "651         0.750000           0.000000           1.500000  \n",
       "436         0.666667           0.000000           1.333333  \n",
       "519         0.666667           0.000000           1.333333  \n",
       "72          0.571429           0.142857           1.285714  \n",
       "440         0.600000           0.000000           1.200000  "
      ]
     },
     "metadata": {},
     "output_type": "display_data"
    }
   ],
   "source": [
    "# Crear una puntuación de rendimiento general\n",
    "# Esta será nuestra variable objetivo para el modelo de clasificación\n",
    "\n",
    "# Primero, agrupamos por jugador para calcular estadísticas agregadas\n",
    "player_stats = players_df.groupby('playerId').agg({\n",
    "    'goals': 'sum',\n",
    "    'assists': 'sum',\n",
    "    'yellowCards': 'sum',\n",
    "    'redCards': 'sum',\n",
    "    'match_id': 'count'  # Número de partidos\n",
    "}).reset_index()\n",
    "\n",
    "# Renombrar la columna de partidos\n",
    "player_stats.rename(columns={'match_id': 'matches_played'}, inplace=True)\n",
    "\n",
    "# Calcular estadísticas por partido\n",
    "player_stats['goals_per_match'] = player_stats['goals'] / player_stats['matches_played']\n",
    "player_stats['assists_per_match'] = player_stats['assists'] / player_stats['matches_played']\n",
    "\n",
    "# Calcular una puntuación general (ejemplo simple)\n",
    "# Esta fórmula es un ejemplo - en la práctica podría ser más compleja y ajustada por posición\n",
    "player_stats['performance_score'] = (\n",
    "    2 * player_stats['goals_per_match'] + \n",
    "    player_stats['assists_per_match'] - \n",
    "    0.5 * player_stats['yellowCards'] / player_stats['matches_played'] - \n",
    "    2 * player_stats['redCards'] / player_stats['matches_played']\n",
    ")\n",
    "\n",
    "# Mostrar estadísticas\n",
    "print(\"Estadísticas de jugadores:\")\n",
    "display(player_stats.sort_values('performance_score', ascending=False).head(10))"
   ]
  },
  {
   "cell_type": "code",
   "execution_count": 12,
   "metadata": {},
   "outputs": [
    {
     "name": "stdout",
     "output_type": "stream",
     "text": [
      "Umbral de alto rendimiento: 0.0000\n",
      "\n",
      "Distribución de etiquetas:\n",
      "high_performance\n",
      "True     551\n",
      "False    185\n",
      "Name: count, dtype: int64\n",
      "Porcentaje de alto rendimiento: 74.9%\n"
     ]
    }
   ],
   "source": [
    "# Crear etiquetas de rendimiento (alto/bajo) para clasificación\n",
    "# Usamos el percentil 70 como umbral\n",
    "threshold = player_stats['performance_score'].quantile(0.7)\n",
    "player_stats['high_performance'] = player_stats['performance_score'] >= threshold\n",
    "\n",
    "# Distribución de etiquetas\n",
    "print(f\"Umbral de alto rendimiento: {threshold:.4f}\")\n",
    "print(\"\\nDistribución de etiquetas:\")\n",
    "print(player_stats['high_performance'].value_counts())\n",
    "print(f\"Porcentaje de alto rendimiento: {100 * player_stats['high_performance'].mean():.1f}%\")"
   ]
  },
  {
   "cell_type": "markdown",
   "metadata": {},
   "source": [
    "## 2.4 Preparación para Modelado\n",
    "\n",
    "Ahora prepararemos los datos para los modelos de clasificación y clustering."
   ]
  },
  {
   "cell_type": "markdown",
   "metadata": {},
   "source": [
    "### 2.4.1 Preparación para Modelo de Clasificación"
   ]
  },
  {
   "cell_type": "code",
   "execution_count": 13,
   "metadata": {},
   "outputs": [
    {
     "name": "stdout",
     "output_type": "stream",
     "text": [
      "Características para clasificación: (736, 7)\n",
      "Target para clasificación: (736,)\n"
     ]
    }
   ],
   "source": [
    "# Seleccionar características para el modelo de clasificación\n",
    "classification_features = [\n",
    "    'goals', 'assists', 'goals_per_match', 'assists_per_match',\n",
    "    'yellowCards', 'redCards', 'matches_played'\n",
    "]\n",
    "\n",
    "# Verificar que todas las características existen en el DataFrame\n",
    "classification_features = [col for col in classification_features if col in player_stats.columns]\n",
    "\n",
    "# Crear DataFrame de características y target\n",
    "X_classification = player_stats[classification_features]\n",
    "y_classification = player_stats['high_performance']\n",
    "\n",
    "# Verificar la forma de los datos\n",
    "print(f\"Características para clasificación: {X_classification.shape}\")\n",
    "print(f\"Target para clasificación: {y_classification.shape}\")"
   ]
  },
  {
   "cell_type": "code",
   "execution_count": 17,
   "metadata": {},
   "outputs": [
    {
     "name": "stdout",
     "output_type": "stream",
     "text": [
      "Conjunto de entrenamiento: 552 muestras\n",
      "Conjunto de prueba: 184 muestras\n"
     ]
    }
   ],
   "source": [
    "# Dividir en conjunto de entrenamiento y prueba\n",
    "try:\n",
    "    from sklearn.model_selection import train_test_split\n",
    "    \n",
    "    X_train, X_test, y_train, y_test = train_test_split(\n",
    "        X_classification, y_classification, test_size=0.25, random_state=42, stratify=y_classification\n",
    "    )\n",
    "    \n",
    "    print(f\"Conjunto de entrenamiento: {X_train.shape[0]} muestras\")\n",
    "    print(f\"Conjunto de prueba: {X_test.shape[0]} muestras\")\n",
    "    \n",
    "except ModuleNotFoundError:\n",
    "    print(\"ERROR: scikit-learn no está instalado.\")\n",
    "    print(\"\\nPara instalar scikit-learn, ejecuta en tu terminal:\")\n",
    "    print(\"pip install scikit-learn\")\n",
    "    print(\"\\nUna vez instalado, vuelve a ejecutar esta celda.\")\n",
    "    \n",
    "    # Crear variables dummy para evitar errores en celdas siguientes\n",
    "    X_train, X_test = X_classification.iloc[:75], X_classification.iloc[75:]\n",
    "    y_train, y_test = y_classification.iloc[:75], y_classification.iloc[75:]"
   ]
  },
  {
   "cell_type": "markdown",
   "metadata": {},
   "source": [
    "### 2.4.2 Preparación para Modelo de Clustering"
   ]
  },
  {
   "cell_type": "code",
   "execution_count": 18,
   "metadata": {},
   "outputs": [
    {
     "name": "stdout",
     "output_type": "stream",
     "text": [
      "Características para clustering: (736, 4)\n",
      "\n",
      "Datos normalizados para clustering:\n"
     ]
    },
    {
     "data": {
      "text/html": [
       "<div>\n",
       "<style scoped>\n",
       "    .dataframe tbody tr th:only-of-type {\n",
       "        vertical-align: middle;\n",
       "    }\n",
       "\n",
       "    .dataframe tbody tr th {\n",
       "        vertical-align: top;\n",
       "    }\n",
       "\n",
       "    .dataframe thead th {\n",
       "        text-align: right;\n",
       "    }\n",
       "</style>\n",
       "<table border=\"1\" class=\"dataframe\">\n",
       "  <thead>\n",
       "    <tr style=\"text-align: right;\">\n",
       "      <th></th>\n",
       "      <th>goals_per_match</th>\n",
       "      <th>assists_per_match</th>\n",
       "      <th>yellowCards</th>\n",
       "      <th>redCards</th>\n",
       "    </tr>\n",
       "  </thead>\n",
       "  <tbody>\n",
       "    <tr>\n",
       "      <th>0</th>\n",
       "      <td>-0.360229</td>\n",
       "      <td>-0.296513</td>\n",
       "      <td>-0.499328</td>\n",
       "      <td>-0.061139</td>\n",
       "    </tr>\n",
       "    <tr>\n",
       "      <th>1</th>\n",
       "      <td>-0.360229</td>\n",
       "      <td>1.401140</td>\n",
       "      <td>2.719138</td>\n",
       "      <td>-0.061139</td>\n",
       "    </tr>\n",
       "    <tr>\n",
       "      <th>2</th>\n",
       "      <td>0.700639</td>\n",
       "      <td>-0.296513</td>\n",
       "      <td>3.673768</td>\n",
       "      <td>-0.061139</td>\n",
       "    </tr>\n",
       "    <tr>\n",
       "      <th>3</th>\n",
       "      <td>1.496290</td>\n",
       "      <td>2.674380</td>\n",
       "      <td>-0.499328</td>\n",
       "      <td>-0.061139</td>\n",
       "    </tr>\n",
       "    <tr>\n",
       "      <th>4</th>\n",
       "      <td>-0.360229</td>\n",
       "      <td>-0.296513</td>\n",
       "      <td>-0.499328</td>\n",
       "      <td>-0.061139</td>\n",
       "    </tr>\n",
       "  </tbody>\n",
       "</table>\n",
       "</div>"
      ],
      "text/plain": [
       "   goals_per_match  assists_per_match  yellowCards  redCards\n",
       "0        -0.360229          -0.296513    -0.499328 -0.061139\n",
       "1        -0.360229           1.401140     2.719138 -0.061139\n",
       "2         0.700639          -0.296513     3.673768 -0.061139\n",
       "3         1.496290           2.674380    -0.499328 -0.061139\n",
       "4        -0.360229          -0.296513    -0.499328 -0.061139"
      ]
     },
     "metadata": {},
     "output_type": "display_data"
    }
   ],
   "source": [
    "# Seleccionar características para el modelo de clustering\n",
    "# Para clustering, usamos características que definan el estilo de juego\n",
    "clustering_features = [\n",
    "    'goals_per_match', 'assists_per_match',\n",
    "    'yellowCards', 'redCards'\n",
    "]\n",
    "\n",
    "# Verificar que todas las características existen en el DataFrame\n",
    "clustering_features = [col for col in clustering_features if col in player_stats.columns]\n",
    "\n",
    "# Crear DataFrame de características para clustering\n",
    "X_clustering = player_stats[clustering_features]\n",
    "\n",
    "# Verificar la forma de los datos\n",
    "print(f\"Características para clustering: {X_clustering.shape}\")\n",
    "\n",
    "# Normalizar los datos para clustering\n",
    "try:\n",
    "    from sklearn.preprocessing import StandardScaler\n",
    "\n",
    "    scaler = StandardScaler()\n",
    "    X_clustering_scaled = scaler.fit_transform(X_clustering)\n",
    "\n",
    "    # Convertir a DataFrame para facilitar su uso\n",
    "    X_clustering_scaled_df = pd.DataFrame(\n",
    "        X_clustering_scaled, \n",
    "        columns=X_clustering.columns,\n",
    "        index=X_clustering.index\n",
    "    )\n",
    "\n",
    "    # Mostrar primeras filas escaladas\n",
    "    print(\"\\nDatos normalizados para clustering:\")\n",
    "    display(X_clustering_scaled_df.head())\n",
    "    \n",
    "except ModuleNotFoundError:\n",
    "    print(\"ERROR: scikit-learn no está instalado.\")\n",
    "    print(\"Por favor, instálalo como se indicó anteriormente.\")\n",
    "    \n",
    "    # Crear una versión simple escalada para continuar\n",
    "    X_clustering_scaled_df = (X_clustering - X_clustering.mean()) / X_clustering.std()\n",
    "    print(\"\\nDatos normalizados para clustering (método alternativo):\")\n",
    "    display(X_clustering_scaled_df.head())"
   ]
  },
  {
   "cell_type": "markdown",
   "metadata": {},
   "source": [
    "## 2.5 Guardar Datos Procesados\n",
    "\n",
    "Finalmente, guardaremos los datos procesados para usarlos en los siguientes notebooks."
   ]
  },
  {
   "cell_type": "code",
   "execution_count": 19,
   "metadata": {},
   "outputs": [
    {
     "name": "stdout",
     "output_type": "stream",
     "text": [
      "Guardado X_train en ../data/processed/X_train.csv\n",
      "Guardado X_test en ../data/processed/X_test.csv\n",
      "Guardado y_train en ../data/processed/y_train.csv\n",
      "Guardado y_test en ../data/processed/y_test.csv\n",
      "Guardado datos para clustering en ../data/processed/X_clustering_scaled.csv\n",
      "Guardado estadísticas de jugadores en ../data/processed/player_stats.csv\n"
     ]
    }
   ],
   "source": [
    "# Crear directorio para datos procesados si no existe\n",
    "processed_dir = Path(\"../data/processed\")\n",
    "processed_dir.mkdir(parents=True, exist_ok=True)\n",
    "\n",
    "# Guardar datos para clasificación\n",
    "classification_data = {\n",
    "    'X_train': X_train,\n",
    "    'X_test': X_test,\n",
    "    'y_train': y_train,\n",
    "    'y_test': y_test\n",
    "}\n",
    "\n",
    "for name, data in classification_data.items():\n",
    "    filepath = processed_dir / f\"{name}.csv\"\n",
    "    data.to_csv(filepath, index=False)\n",
    "    print(f\"Guardado {name} en {filepath}\")\n",
    "\n",
    "# Guardar datos para clustering\n",
    "clustering_file = processed_dir / \"X_clustering_scaled.csv\"\n",
    "X_clustering_scaled_df.to_csv(clustering_file)\n",
    "print(f\"Guardado datos para clustering en {clustering_file}\")\n",
    "\n",
    "# Guardar datos de jugadores para referencia\n",
    "player_stats_file = processed_dir / \"player_stats.csv\"\n",
    "player_stats.to_csv(player_stats_file, index=False)\n",
    "print(f\"Guardado estadísticas de jugadores en {player_stats_file}\")"
   ]
  },
  {
   "cell_type": "markdown",
   "metadata": {},
   "source": [
    "## 2.6 Resumen y Próximos Pasos\n",
    "\n",
    "En este notebook hemos realizado la preparación de datos para nuestros modelos de machine learning:\n",
    "\n",
    "1. **Limpieza de datos**:\n",
    "   - Convertimos tipos de datos\n",
    "   - Manejamos valores faltantes\n",
    "\n",
    "2. **Ingeniería de características**:\n",
    "   - Creamos métricas de rendimiento\n",
    "   - Calculamos estadísticas por jugador\n",
    "   - Generamos la variable objetivo para clasificación\n",
    "\n",
    "3. **Preparación para modelado**:\n",
    "   - Seleccionamos características para clasificación y clustering\n",
    "   - Dividimos los datos en conjuntos de entrenamiento y prueba\n",
    "   - Normalizamos los datos para clustering\n",
    "\n",
    "4. **Guardamos los datos procesados** para su uso en los siguientes notebooks"
   ]
  }
 ],
 "metadata": {
  "kernelspec": {
   "display_name": "Python 3",
   "language": "python",
   "name": "python3"
  },
  "language_info": {
   "codemirror_mode": {
    "name": "ipython",
    "version": 3
   },
   "file_extension": ".py",
   "mimetype": "text/x-python",
   "name": "python",
   "nbconvert_exporter": "python",
   "pygments_lexer": "ipython3",
   "version": "3.13.0"
  }
 },
 "nbformat": 4,
 "nbformat_minor": 2
}
